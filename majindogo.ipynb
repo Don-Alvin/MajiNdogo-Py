{
 "cells": [
  {
   "cell_type": "markdown",
   "id": "15028ba3",
   "metadata": {},
   "source": [
    "# Maji Mdogo"
   ]
  },
  {
   "cell_type": "code",
   "execution_count": 1,
   "id": "631716c5",
   "metadata": {},
   "outputs": [],
   "source": [
    "import os\n",
    "import re"
   ]
  },
  {
   "cell_type": "code",
   "execution_count": null,
   "id": "9fdd2e2b",
   "metadata": {},
   "outputs": [
    {
     "name": "stderr",
     "output_type": "stream",
     "text": [
      "2025-06-09 10:32:32,489 - field_data_processor.FieldDataProcessor - INFO - Starting data processing...\n",
      "2025-06-09 10:32:32,506 - INFO - Database engine created successfully for Maji_Ndogo_farm_survey_small.db\n",
      "2025-06-09 10:32:32,643 - INFO - Query executed successfully, returned 5654 rows.\n",
      "2025-06-09 10:32:32,644 - field_data_processor.FieldDataProcessor - INFO - Loaded data from SQL database.\n",
      "2025-06-09 10:32:32,648 - field_data_processor.FieldDataProcessor - INFO - Renamed columns in DataFrame.\n",
      "2025-06-09 10:32:32,654 - field_data_processor.FieldDataProcessor - INFO - Corrected crop types in DataFrame.\n",
      "2025-06-09 10:32:33,217 - INFO - CSV file read successfully from https://raw.githubusercontent.com/Explore-AI/Public-Data/master/Maji_Ndogo/Weather_data_field_mapping.csv, returned 5654 rows.\n",
      "2025-06-09 10:32:33,262 - field_data_processor.FieldDataProcessor - INFO - Joined weather data to the main DataFrame.\n",
      "2025-06-09 10:32:33,263 - field_data_processor.FieldDataProcessor - INFO - Data processing completed.\n"
     ]
    },
    {
     "data": {
      "text/plain": [
       "array([4, 0, 1, 2, 3])"
      ]
     },
     "execution_count": 2,
     "metadata": {},
     "output_type": "execute_result"
    }
   ],
   "source": [
    "from field_data_processor import FieldDataProcessor\n",
    "\n",
    "config_params = {\n",
    "    'sql_query':\"\"\"\n",
    "        SELECT * \n",
    "        FROM geographic_features\n",
    "        LEFT JOIN weather_features USING(Field_ID)\n",
    "        LEFT JOIN soil_and_crop_features USING(Field_ID)\n",
    "        LEFT JOIN farm_management_features USING(Field_ID)\n",
    "    \"\"\",\n",
    "    'db_path': 'Maji_Ndogo_farm_survey_small.db',\n",
    "    'columns_to_rename': {\n",
    "        'Annual_yield': 'Crop_type',\n",
    "        'Crop_type': 'Annual_yield'\n",
    "    },\n",
    "    'values_to_rename': {\n",
    "        'cassava ': 'cassava',\n",
    "        'wheat ': 'wheat',\n",
    "        'tea ': 'tea',\n",
    "        'cassaval': 'cassava',\n",
    "        'wheatn': 'wheat',\n",
    "        'teaa': 'tea'\n",
    "    },\n",
    "    'weather_map_url': \"https://raw.githubusercontent.com/Explore-AI/Public-Data/master/Maji_Ndogo/Weather_data_field_mapping.csv\",\n",
    "    'weather_url': \"https://raw.githubusercontent.com/Explore-AI/Public-Data/master/Maji_Ndogo/Weather_station_data.csv\",\n",
    "\n",
    "    'regex_patterns': {\n",
    "        'Rainfall': r'(\\d+(\\.\\d+)?)\\s?mm',\n",
    "        'Temprature': r'(\\d+(\\.\\d+)?)\\s?C',\n",
    "        'Pollution_level': r'=\\s*(-?\\d+(\\.\\d+)?)|Pollution at \\s*(-?\\d+(\\.\\d+)?)',\n",
    "    }\n",
    "    \n",
    "}\n",
    "\n",
    "field_processor = FieldDataProcessor(config_params)\n",
    "field_processor.process_data()\n",
    "field_df = field_processor.df\n",
    "field_df['Weather_station'].unique()\n"
   ]
  },
  {
   "cell_type": "code",
   "execution_count": null,
   "id": "2fb3bef4",
   "metadata": {},
   "outputs": [],
   "source": []
  }
 ],
 "metadata": {
  "kernelspec": {
   "display_name": "base",
   "language": "python",
   "name": "python3"
  },
  "language_info": {
   "codemirror_mode": {
    "name": "ipython",
    "version": 3
   },
   "file_extension": ".py",
   "mimetype": "text/x-python",
   "name": "python",
   "nbconvert_exporter": "python",
   "pygments_lexer": "ipython3",
   "version": "3.12.7"
  }
 },
 "nbformat": 4,
 "nbformat_minor": 5
}
