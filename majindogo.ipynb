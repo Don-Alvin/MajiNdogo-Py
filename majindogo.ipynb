{
 "cells": [
  {
   "cell_type": "markdown",
   "id": "15028ba3",
   "metadata": {},
   "source": [
    "# Maji Mdogo"
   ]
  },
  {
   "cell_type": "code",
   "execution_count": null,
   "id": "631716c5",
   "metadata": {},
   "outputs": [],
   "source": [
    "import os\n",
    "import re\n"
   ]
  },
  {
   "cell_type": "code",
   "execution_count": null,
   "id": "620ceef6",
   "metadata": {},
   "outputs": [
    {
     "name": "stderr",
     "output_type": "stream",
     "text": [
      "2025-06-08 22:59:31,678 - INFO - Database engine created successfully for Maji_Ndogo_farm_survey_small.db\n",
      "2025-06-08 22:59:31,769 - INFO - Query executed successfully, returned 5654 rows.\n",
      "2025-06-08 22:59:32,497 - INFO - CSV file read successfully from https://raw.githubusercontent.com/Explore-AI/Public-Data/master/Maji_Ndogo/Weather_station_data.csv, returned 1843 rows.\n",
      "2025-06-08 22:59:33,162 - INFO - CSV file read successfully from https://raw.githubusercontent.com/Explore-AI/Public-Data/master/Maji_Ndogo/Weather_data_field_mapping.csv, returned 5654 rows.\n"
     ]
    },
    {
     "name": "stdout",
     "output_type": "stream",
     "text": [
      "field_df: (5654, 18), weather_df: (1843, 2), weather_mapping_df: (5654, 3)\n"
     ]
    }
   ],
   "source": [
    "from data_ingestion import create_db_engine, query_to_dataframe, read_csv_web\n",
    "\n",
    "sql_query = \"\"\"\n",
    "    SELECT * \n",
    "    FROM geographic_features\n",
    "    LEFT JOIN weather_features USING(Field_ID)\n",
    "    LEFT JOIN soil_and_crop_features USING(Field_ID)\n",
    "    LEFT JOIN farm_management_features USING(Field_ID)\n",
    "\"\"\"\n",
    "\n",
    "weather_url= \"https://raw.githubusercontent.com/Explore-AI/Public-Data/master/Maji_Ndogo/Weather_station_data.csv\"\n",
    "weather_mapping_url = \"https://raw.githubusercontent.com/Explore-AI/Public-Data/master/Maji_Ndogo/Weather_data_field_mapping.csv\"\n",
    "\n",
    "field_df = query_to_dataframe(create_db_engine('Maji_Ndogo_farm_survey_small.db'), sql_query)\n",
    "weather_df = read_csv_web(weather_url)\n",
    "weather_mapping_df = read_csv_web(weather_mapping_url)\n",
    "\n",
    "field_test = field_df.shape\n",
    "weather_test = weather_df.shape\n",
    "weather_mapping_test = weather_mapping_df.shape\n",
    "print(f\"field_df: {field_test}, weather_df: {weather_test}, weather_mapping_df: {weather_mapping_test}\")\n"
   ]
  },
  {
   "cell_type": "code",
   "execution_count": 3,
   "id": "d4bf3290",
   "metadata": {},
   "outputs": [],
   "source": [
    "# Import weather station data and weather field mapping data from their respective CSV files\n",
    "weather_station_df = pd.read_csv('https://raw.githubusercontent.com/Explore-AI/Public-Data/master/Maji_Ndogo/Weather_station_data.csv')\n",
    "weather_station_mapping_df = pd.read_csv('https://raw.githubusercontent.com/Explore-AI/Public-Data/master/Maji_Ndogo/Weather_data_field_mapping.csv')"
   ]
  },
  {
   "cell_type": "markdown",
   "id": "b76adee8",
   "metadata": {},
   "source": [
    "### Data Cleanup"
   ]
  },
  {
   "cell_type": "code",
   "execution_count": 5,
   "id": "9495a1d1",
   "metadata": {},
   "outputs": [
    {
     "data": {
      "text/html": [
       "<div>\n",
       "<style scoped>\n",
       "    .dataframe tbody tr th:only-of-type {\n",
       "        vertical-align: middle;\n",
       "    }\n",
       "\n",
       "    .dataframe tbody tr th {\n",
       "        vertical-align: top;\n",
       "    }\n",
       "\n",
       "    .dataframe thead th {\n",
       "        text-align: right;\n",
       "    }\n",
       "</style>\n",
       "<table border=\"1\" class=\"dataframe\">\n",
       "  <thead>\n",
       "    <tr style=\"text-align: right;\">\n",
       "      <th></th>\n",
       "      <th>Unnamed: 0</th>\n",
       "      <th>Field_ID</th>\n",
       "      <th>Weather_station</th>\n",
       "    </tr>\n",
       "  </thead>\n",
       "  <tbody>\n",
       "    <tr>\n",
       "      <th>0</th>\n",
       "      <td>1003</td>\n",
       "      <td>40413</td>\n",
       "      <td>0</td>\n",
       "    </tr>\n",
       "    <tr>\n",
       "      <th>1</th>\n",
       "      <td>3638</td>\n",
       "      <td>4086</td>\n",
       "      <td>0</td>\n",
       "    </tr>\n",
       "    <tr>\n",
       "      <th>2</th>\n",
       "      <td>1186</td>\n",
       "      <td>32366</td>\n",
       "      <td>0</td>\n",
       "    </tr>\n",
       "    <tr>\n",
       "      <th>3</th>\n",
       "      <td>3644</td>\n",
       "      <td>16996</td>\n",
       "      <td>0</td>\n",
       "    </tr>\n",
       "    <tr>\n",
       "      <th>4</th>\n",
       "      <td>3647</td>\n",
       "      <td>16398</td>\n",
       "      <td>0</td>\n",
       "    </tr>\n",
       "  </tbody>\n",
       "</table>\n",
       "</div>"
      ],
      "text/plain": [
       "   Unnamed: 0  Field_ID  Weather_station\n",
       "0        1003     40413                0\n",
       "1        3638      4086                0\n",
       "2        1186     32366                0\n",
       "3        3644     16996                0\n",
       "4        3647     16398                0"
      ]
     },
     "execution_count": 5,
     "metadata": {},
     "output_type": "execute_result"
    }
   ],
   "source": [
    "weather_station_mapping_df.head()"
   ]
  },
  {
   "cell_type": "code",
   "execution_count": null,
   "id": "29c38f64",
   "metadata": {},
   "outputs": [
    {
     "data": {
      "text/html": [
       "<div>\n",
       "<style scoped>\n",
       "    .dataframe tbody tr th:only-of-type {\n",
       "        vertical-align: middle;\n",
       "    }\n",
       "\n",
       "    .dataframe tbody tr th {\n",
       "        vertical-align: top;\n",
       "    }\n",
       "\n",
       "    .dataframe thead th {\n",
       "        text-align: right;\n",
       "    }\n",
       "</style>\n",
       "<table border=\"1\" class=\"dataframe\">\n",
       "  <thead>\n",
       "    <tr style=\"text-align: right;\">\n",
       "      <th></th>\n",
       "      <th>Field_ID</th>\n",
       "      <th>Elevation</th>\n",
       "      <th>Latitude</th>\n",
       "      <th>Longitude</th>\n",
       "      <th>Location</th>\n",
       "      <th>Slope</th>\n",
       "      <th>Rainfall</th>\n",
       "      <th>Min_temperature_C</th>\n",
       "      <th>Max_temperature_C</th>\n",
       "      <th>Ave_temps</th>\n",
       "      <th>Soil_fertility</th>\n",
       "      <th>Soil_type</th>\n",
       "      <th>pH</th>\n",
       "      <th>Pollution_level</th>\n",
       "      <th>Plot_size</th>\n",
       "      <th>Annual_yield</th>\n",
       "      <th>Crop_type</th>\n",
       "      <th>Standard_yield</th>\n",
       "    </tr>\n",
       "  </thead>\n",
       "  <tbody>\n",
       "    <tr>\n",
       "      <th>0</th>\n",
       "      <td>40734</td>\n",
       "      <td>786.05580</td>\n",
       "      <td>-7.389911</td>\n",
       "      <td>-7.556202</td>\n",
       "      <td>Rural_Akatsi</td>\n",
       "      <td>14.795113</td>\n",
       "      <td>1125.2</td>\n",
       "      <td>-3.1</td>\n",
       "      <td>33.1</td>\n",
       "      <td>15.00</td>\n",
       "      <td>0.62</td>\n",
       "      <td>Sandy</td>\n",
       "      <td>6.169393</td>\n",
       "      <td>0.085267</td>\n",
       "      <td>1.3</td>\n",
       "      <td>0.751354</td>\n",
       "      <td>cassava</td>\n",
       "      <td>0.577964</td>\n",
       "    </tr>\n",
       "    <tr>\n",
       "      <th>1</th>\n",
       "      <td>30629</td>\n",
       "      <td>674.33410</td>\n",
       "      <td>-7.736849</td>\n",
       "      <td>-1.051539</td>\n",
       "      <td>Rural_Sokoto</td>\n",
       "      <td>11.374611</td>\n",
       "      <td>1450.7</td>\n",
       "      <td>-3.9</td>\n",
       "      <td>30.6</td>\n",
       "      <td>13.35</td>\n",
       "      <td>0.64</td>\n",
       "      <td>Volcanic</td>\n",
       "      <td>5.676648</td>\n",
       "      <td>0.399684</td>\n",
       "      <td>2.2</td>\n",
       "      <td>1.069865</td>\n",
       "      <td>cassava</td>\n",
       "      <td>0.486302</td>\n",
       "    </tr>\n",
       "    <tr>\n",
       "      <th>2</th>\n",
       "      <td>39924</td>\n",
       "      <td>826.53390</td>\n",
       "      <td>-9.926616</td>\n",
       "      <td>0.115156</td>\n",
       "      <td>Rural_Sokoto</td>\n",
       "      <td>11.339692</td>\n",
       "      <td>2208.9</td>\n",
       "      <td>-1.8</td>\n",
       "      <td>28.4</td>\n",
       "      <td>13.30</td>\n",
       "      <td>0.69</td>\n",
       "      <td>Volcanic</td>\n",
       "      <td>5.331993</td>\n",
       "      <td>0.358029</td>\n",
       "      <td>3.4</td>\n",
       "      <td>2.208801</td>\n",
       "      <td>tea</td>\n",
       "      <td>0.649647</td>\n",
       "    </tr>\n",
       "    <tr>\n",
       "      <th>3</th>\n",
       "      <td>5754</td>\n",
       "      <td>574.94617</td>\n",
       "      <td>-2.420131</td>\n",
       "      <td>-6.592215</td>\n",
       "      <td>Rural_Kilimani</td>\n",
       "      <td>7.109855</td>\n",
       "      <td>328.8</td>\n",
       "      <td>-5.8</td>\n",
       "      <td>32.2</td>\n",
       "      <td>13.20</td>\n",
       "      <td>0.54</td>\n",
       "      <td>Loamy</td>\n",
       "      <td>5.328150</td>\n",
       "      <td>0.286687</td>\n",
       "      <td>2.4</td>\n",
       "      <td>1.277635</td>\n",
       "      <td>cassava</td>\n",
       "      <td>0.532348</td>\n",
       "    </tr>\n",
       "    <tr>\n",
       "      <th>4</th>\n",
       "      <td>14146</td>\n",
       "      <td>886.35300</td>\n",
       "      <td>-3.055434</td>\n",
       "      <td>-7.952609</td>\n",
       "      <td>Rural_Kilimani</td>\n",
       "      <td>55.007656</td>\n",
       "      <td>785.2</td>\n",
       "      <td>-2.5</td>\n",
       "      <td>31.0</td>\n",
       "      <td>14.25</td>\n",
       "      <td>0.72</td>\n",
       "      <td>Sandy</td>\n",
       "      <td>5.721234</td>\n",
       "      <td>0.043190</td>\n",
       "      <td>1.5</td>\n",
       "      <td>0.832614</td>\n",
       "      <td>wheat</td>\n",
       "      <td>0.555076</td>\n",
       "    </tr>\n",
       "  </tbody>\n",
       "</table>\n",
       "</div>"
      ],
      "text/plain": [
       "   Field_ID  Elevation  Latitude  Longitude        Location      Slope  \\\n",
       "0     40734  786.05580 -7.389911  -7.556202    Rural_Akatsi  14.795113   \n",
       "1     30629  674.33410 -7.736849  -1.051539    Rural_Sokoto  11.374611   \n",
       "2     39924  826.53390 -9.926616   0.115156    Rural_Sokoto  11.339692   \n",
       "3      5754  574.94617 -2.420131  -6.592215  Rural_Kilimani   7.109855   \n",
       "4     14146  886.35300 -3.055434  -7.952609  Rural_Kilimani  55.007656   \n",
       "\n",
       "   Rainfall  Min_temperature_C  Max_temperature_C  Ave_temps  Soil_fertility  \\\n",
       "0    1125.2               -3.1               33.1      15.00            0.62   \n",
       "1    1450.7               -3.9               30.6      13.35            0.64   \n",
       "2    2208.9               -1.8               28.4      13.30            0.69   \n",
       "3     328.8               -5.8               32.2      13.20            0.54   \n",
       "4     785.2               -2.5               31.0      14.25            0.72   \n",
       "\n",
       "  Soil_type        pH  Pollution_level  Plot_size  Annual_yield Crop_type  \\\n",
       "0     Sandy  6.169393         0.085267        1.3      0.751354   cassava   \n",
       "1  Volcanic  5.676648         0.399684        2.2      1.069865   cassava   \n",
       "2  Volcanic  5.331993         0.358029        3.4      2.208801       tea   \n",
       "3     Loamy  5.328150         0.286687        2.4      1.277635   cassava   \n",
       "4     Sandy  5.721234         0.043190        1.5      0.832614     wheat   \n",
       "\n",
       "   Standard_yield  \n",
       "0        0.577964  \n",
       "1        0.486302  \n",
       "2        0.649647  \n",
       "3        0.532348  \n",
       "4        0.555076  "
      ]
     },
     "execution_count": 13,
     "metadata": {},
     "output_type": "execute_result"
    }
   ],
   "source": [
    "\n",
    "# Swap the 'Crop_type' and 'Annual_yield' columns\n",
    "MD_agric_df = MD_agric_df.rename(columns={'Crop_type': 'Annual_yield', 'Annual_yield': 'Crop_type'})\n",
    "\n",
    "MD_agric_df.head()"
   ]
  },
  {
   "cell_type": "code",
   "execution_count": 14,
   "id": "0f5b6bea",
   "metadata": {},
   "outputs": [
    {
     "data": {
      "text/plain": [
       "array(['cassava', 'tea', 'wheat', 'potato', 'banana', 'coffee', 'rice',\n",
       "       'maize', 'wheat ', 'tea ', 'cassaval', 'wheatn', 'cassava ',\n",
       "       'teaa'], dtype=object)"
      ]
     },
     "execution_count": 14,
     "metadata": {},
     "output_type": "execute_result"
    }
   ],
   "source": [
    "# Correct crop names\n",
    "MD_agric_df['Crop_type'].unique()"
   ]
  },
  {
   "cell_type": "code",
   "execution_count": 15,
   "id": "68f5d131",
   "metadata": {},
   "outputs": [
    {
     "data": {
      "text/plain": [
       "array(['cassava', 'tea', 'wheat', 'potato', 'banana', 'coffee', 'rice',\n",
       "       'maize'], dtype=object)"
      ]
     },
     "execution_count": 15,
     "metadata": {},
     "output_type": "execute_result"
    }
   ],
   "source": [
    "def correct_crop_names(crop_name):\n",
    "    corrections = {\n",
    "        'cassava ': 'cassava',\n",
    "        'wheat ': 'wheat',\n",
    "        'tea ': 'tea',\n",
    "        'cassaval': 'cassava',\n",
    "        'wheatn': 'wheat',\n",
    "        'teaa': 'tea',\n",
    "    }\n",
    "    return corrections.get(crop_name, crop_name)\n",
    "\n",
    "MD_agric_df['Crop_type'] = MD_agric_df['Crop_type'].apply(correct_crop_names)\n",
    "\n",
    "MD_agric_df['Crop_type'].unique()"
   ]
  },
  {
   "cell_type": "code",
   "execution_count": null,
   "id": "cfbf9fb2",
   "metadata": {},
   "outputs": [
    {
     "data": {
      "text/plain": [
       "count    5654.000000\n",
       "mean      637.790709\n",
       "std       173.573934\n",
       "min        35.910797\n",
       "25%       525.611413\n",
       "50%       663.058585\n",
       "75%       764.299550\n",
       "max      1122.252100\n",
       "Name: Elevation, dtype: float64"
      ]
     },
     "execution_count": 17,
     "metadata": {},
     "output_type": "execute_result"
    }
   ],
   "source": [
    "# Change negative values in the Elevation column to positive values\n",
    "MD_agric_df['Elevation'] = MD_agric_df['Elevation'].abs() "
   ]
  },
  {
   "cell_type": "markdown",
   "id": "d5fef0df",
   "metadata": {},
   "source": [
    "### Analysis\n"
   ]
  },
  {
   "cell_type": "code",
   "execution_count": null,
   "id": "9fdd2e2b",
   "metadata": {},
   "outputs": [],
   "source": []
  }
 ],
 "metadata": {
  "kernelspec": {
   "display_name": "base",
   "language": "python",
   "name": "python3"
  },
  "language_info": {
   "codemirror_mode": {
    "name": "ipython",
    "version": 3
   },
   "file_extension": ".py",
   "mimetype": "text/x-python",
   "name": "python",
   "nbconvert_exporter": "python",
   "pygments_lexer": "ipython3",
   "version": "3.12.7"
  }
 },
 "nbformat": 4,
 "nbformat_minor": 5
}
